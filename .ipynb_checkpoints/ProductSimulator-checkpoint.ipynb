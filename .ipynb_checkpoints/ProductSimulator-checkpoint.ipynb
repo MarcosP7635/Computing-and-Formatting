{
 "cells": [
  {
   "cell_type": "markdown",
   "metadata": {
    "id": "1g-f0sR_c_y2"
   },
   "source": [
    "We will have two main classes: supply_chain and sales.\n",
    "Our goal - calculate the order of magnitude of the cost to make and move the product, and calculate the expected money from sales. Then of course\n",
    "just take profit from both of those and the required investment"
   ]
  },
  {
   "cell_type": "code",
   "execution_count": null,
   "metadata": {
    "id": "7Uyq8mJlbiiS"
   },
   "outputs": [],
   "source": [
    "class Supply_chain:\n",
    "     \n",
    "    def __init__(self, non_optional_arguments, **kwargs):\n",
    "        optional_inputs_dict = {\n",
    "            \"variable_name\": \n",
    "        }\n",
    "        optional_argument_names = (\"\")\n",
    "        for index in range(len(kwargs)):\n",
    "            optional_inputs_dict[optional_argument_names[index]] = kwargs[index] \n",
    "        '''\n",
    "        center_index is the index of the center row of the emission line \n",
    "        based on its wavelength, which will be calculated later.\n",
    "        '''\n",
    "        self.center_index = 0\n",
    "        self.shape = shape \n",
    "    def calculate_cost():\n",
    "        "
   ]
  },
  {
   "cell_type": "code",
   "execution_count": 1,
   "metadata": {
    "id": "CX8LGvfEdE_u"
   },
   "outputs": [
    {
     "ename": "NameError",
     "evalue": "name 'Emission_line' is not defined",
     "output_type": "error",
     "traceback": [
      "\u001b[1;31m---------------------------------------------------------------------------\u001b[0m",
      "\u001b[1;31mNameError\u001b[0m                                 Traceback (most recent call last)",
      "\u001b[1;32m<ipython-input-1-ed307b7d7be1>\u001b[0m in \u001b[0;36m<module>\u001b[1;34m\u001b[0m\n\u001b[0;32m     21\u001b[0m           \u001b[0mself\u001b[0m\u001b[1;33m.\u001b[0m\u001b[0mintegrated_power\u001b[0m \u001b[1;33m=\u001b[0m \u001b[0mintegrated_power\u001b[0m\u001b[1;33m\u001b[0m\u001b[1;33m\u001b[0m\u001b[0m\n\u001b[0;32m     22\u001b[0m \u001b[1;33m\u001b[0m\u001b[0m\n\u001b[1;32m---> 23\u001b[1;33m \u001b[0mtest\u001b[0m \u001b[1;33m=\u001b[0m \u001b[0mEmission_line\u001b[0m\u001b[1;33m(\u001b[0m\u001b[1;36m1540\u001b[0m\u001b[1;33m,\u001b[0m \u001b[1;36m0.1\u001b[0m\u001b[1;33m,\u001b[0m \u001b[1;36m1\u001b[0m\u001b[1;33m,\u001b[0m \u001b[1;34m\"Rectangular\"\u001b[0m\u001b[1;33m,\u001b[0m \u001b[1;32mTrue\u001b[0m\u001b[1;33m,\u001b[0m \u001b[1;36m0\u001b[0m\u001b[1;33m,\u001b[0m \u001b[1;36m0\u001b[0m\u001b[1;33m,\u001b[0m \u001b[1;32mFalse\u001b[0m\u001b[1;33m)\u001b[0m\u001b[1;33m\u001b[0m\u001b[1;33m\u001b[0m\u001b[0m\n\u001b[0m",
      "\u001b[1;31mNameError\u001b[0m: name 'Emission_line' is not defined"
     ]
    }
   ],
   "source": [
    "class Sales:\n",
    "     \n",
    "    def __init__(self, **kwargs):\n",
    "        \n",
    "        self.center_index = 0\n",
    "        self.shape = shape \n",
    "\n",
    "    def calculate_power_vs_channels(self, channels):   \n",
    "          '''\n",
    "          Now let's plot just power vs channel. So we have the transmission \n",
    "          in dB, let's convert that to a power in arbitrary power units then \n",
    "          sum across each wavelength spanned by each spectral channel in the \n",
    "          arrayed waveguide grating (AWG)\n",
    "          '''\n",
    "          '''\n",
    "          In this function, wavelength is an index, not the wavelength in \n",
    "          nanometers. Each element in the source_power array corresponds to \n",
    "          a different wavelength, hence the name wavelength\n",
    "          '''\n",
    "          rows_spanned = self.row_indices_spanned\n",
    "          self.integrated_power = integrated_power\n",
    "        \n",
    "test = Sales(1540, 0.1, 1, \"Rectangular\", True, 0, 0, False)"
   ]
  },
  {
   "cell_type": "code",
   "execution_count": null,
   "metadata": {},
   "outputs": [],
   "source": []
  }
 ],
 "metadata": {
  "colab": {
   "collapsed_sections": [],
   "name": "ProductSimulator.ipynb",
   "provenance": []
  },
  "kernelspec": {
   "display_name": "Python 3",
   "language": "python",
   "name": "python3"
  },
  "language_info": {
   "codemirror_mode": {
    "name": "ipython",
    "version": 3
   },
   "file_extension": ".py",
   "mimetype": "text/x-python",
   "name": "python",
   "nbconvert_exporter": "python",
   "pygments_lexer": "ipython3",
   "version": "3.8.3"
  },
  "widgets": {
   "application/vnd.jupyter.widget-state+json": {
    "state": {},
    "version_major": 2,
    "version_minor": 0
   }
  }
 },
 "nbformat": 4,
 "nbformat_minor": 1
}
