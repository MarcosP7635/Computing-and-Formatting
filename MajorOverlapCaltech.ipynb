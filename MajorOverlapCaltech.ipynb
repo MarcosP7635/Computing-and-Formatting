{
 "cells": [
  {
   "cell_type": "code",
   "execution_count": 15,
   "metadata": {},
   "outputs": [],
   "source": [
    "import numpy as np\n",
    "import plotly\n",
    "\n",
    "def add_classes(self, additional_classes):\n",
    "    self.classes = np.append(self.classes, additional_classes)\n",
    "    self.classes = np.unique(self.classes)\n",
    "    return self.classes\n",
    "\n",
    "def assign_attributes(self, **kwargs):\n",
    "    for key in kwargs:\n",
    "        setattr(self, key, kwargs[key])\n",
    "\n",
    "class Course:\n",
    "\n",
    "    '''\n",
    "    Recommended kwargs: \"department_number\", \"name\", \"class_times\", \"terms_offered\", \"years_offered\"\n",
    "    '''\n",
    "\n",
    "    def __init__(self, **kwargs):\n",
    "        assign_attributes(self, **kwargs)\n",
    "        \n",
    "class Major:\n",
    "\n",
    "    '''\n",
    "    Each major is an object with the following attributes:\n",
    "\n",
    "    name: string of the name of major\n",
    "\n",
    "    requirements: dictionary of requirements for the major.\n",
    "\n",
    "    only_minor: boolean, True if this object is only a minor, False otherwise\n",
    "\n",
    "    abbreviation: string of the abbreviation of major\n",
    "\n",
    "    required_course: numpy array of all the courses that can \n",
    "    be used to satify that specific requirement. \n",
    "    '''\n",
    "\n",
    "    def __init__(self, name, only_minor, **kwargs):\n",
    "        self.name = str(name)\n",
    "        self.only_minor = only_minor\n",
    "        self.requirements = {}\n",
    "        assign_attributes(self, **kwargs)\n",
    "\n",
    "    def add_requirements(self, **kwargs):\n",
    "        for key in kwargs:\n",
    "            self.requirements[key] = kwargs[key]\n",
    "\n",
    "            "
   ]
  },
  {
   "cell_type": "code",
   "execution_count": 16,
   "metadata": {},
   "outputs": [],
   "source": [
    "class Schedule:\n",
    "    def __init__(self, time_constraints):\n",
    "        self.time_constraints = time_constraints\n",
    "        self.terms = np.array([])\n",
    "\n",
    "        for i in range():\n",
    "            self.terms.append(Term(time_constraints))\n",
    "    \n",
    "    def add_terms(self, additional_terms):\n",
    "        np.append(self.terms, additional_terms)\n",
    "    \n",
    "    #def assign_classes(term):"
   ]
  },
  {
   "cell_type": "code",
   "execution_count": 17,
   "metadata": {},
   "outputs": [
    {
     "name": "stdout",
     "output_type": "stream",
     "text": [
      "['Aerospace' 'Applied and Computational Mathematics' 'Applied Physics'\n",
      " 'Astrophysics' 'Bioengineering' 'Biology'\n",
      " 'Business, Economics, and Management' 'Chemical Engineering' 'Chemistry'\n",
      " 'Computational and Neural Systems' 'Computer Science'\n",
      " 'Control and Dynamical Systems' 'Economics' 'Electrical Engineering'\n",
      " 'English' 'Engineering and Applied Science'\n",
      " 'Geobiology, Geochemistry, Geology, Geophysics, and Planetary Science'\n",
      " 'History' 'History and Philosophy of Science'\n",
      " 'Information and Data Sciences' 'Materials Science' 'Mathematics'\n",
      " 'Mechanical Engineering' 'Philosophy' 'Physics' 'Political Science'\n",
      " 'Structural Mechanics']\n"
     ]
    },
    {
     "data": {
      "text/plain": [
       "'\\nMake array of all major objects using that webpage from Caltech. Then use their official names\\nand whether they are a major or minor to find their snippet in the catalog. \\nThen parse each snippet to list all of the major requirements. \\n'"
      ]
     },
     "execution_count": 17,
     "metadata": {},
     "output_type": "execute_result"
    }
   ],
   "source": [
    "'''\n",
    "This next codeblock will use TQFRs and the major requirements \n",
    "to create a schedule for a given major.\n",
    "'''\n",
    "\n",
    "class Catalog:\n",
    "    def __init__(self, file_path, want_entire_text, **kwargs):\n",
    "        self.file_path = file_path\n",
    "        self.want_entire_text = want_entire_text\n",
    "        assign_attributes(self, **kwargs)\n",
    "        if (want_entire_text):\n",
    "            import PyPDF2\n",
    "            pdf = open(file_path, 'rb')\n",
    "            pdf_reader = PyPDF2.PdfFileReader(pdf)\n",
    "            pdf_string = \"\"\n",
    "            for page in range(pdf_reader.numPages):\n",
    "                pdf_string += pdf_reader.getPage(page).extractText()\n",
    "            self.entire_text = pdf_string\n",
    "            self.entire_text = self.entire_text.replace('\\n', ' ')\n",
    "            self.entire_text = self.entire_text.replace('\\r', ' ')\n",
    "            self.entire_text = self.entire_text.replace('\\t', ' ')\n",
    "\n",
    "    def make_list_of_all_majors(self, list_of_all_majors_url, **kwargs):\n",
    "        self.list_of_all_majors_url = list_of_all_majors_url\n",
    "        '''\n",
    "        pattern and major_preface are optional arguments.\n",
    "        '''\n",
    "        #This function will webscrape from a given URL\n",
    "        #and return a list of all the majors in the catalog\n",
    "        assign_attributes(self, **kwargs)\n",
    "        from urllib.request import urlopen\n",
    "        page = urlopen(list_of_all_majors_url)\n",
    "        html = page.read().decode('utf-8')\n",
    "        catalog.html = html\n",
    "        try: \n",
    "            split_html = html.split(self.pattern)\n",
    "        except:\n",
    "            self.pattern = 'sidebar-menu-block__level-3__item'\n",
    "            split_html = html.split(self.pattern)\n",
    "        split_html = np.delete(split_html, 0)  \n",
    "        list_of_all_majors = np.array([])\n",
    "        try: \n",
    "            for substring in split_html:\n",
    "                major = substring.split(self.major_preface)[1].split('\\n')[0]\n",
    "                list_of_all_majors = np.append(list_of_all_majors, major)\n",
    "        except:\n",
    "            self.major_preface = \">\\n                          \"\n",
    "            for substring in split_html:\n",
    "                major = substring.split(self.major_preface)[1].split('\\n')[0]\n",
    "                list_of_all_majors = np.append(list_of_all_majors, major)\n",
    "        self.list_of_all_majors = list_of_all_majors\n",
    "\n",
    "\n",
    "    def get_all_snippets(self):\n",
    "        #need entire_text and list of all majors to return a list of all the major snippets\n",
    "        all_snippets = np.array([])\n",
    "       \n",
    "        for major_index in range(len(self.list_of_all_majors)-1):\n",
    "            try: \n",
    "                beginning = self.entire_text.find(self.list_of_all_majors[major_index] + \"Option\")\n",
    "                end = self.entire_text.find(self.list_of_all_majors[major_index+1] + \"Option\")\n",
    "                snippet = self.entire_text[beginning - 1: end + 1]\n",
    "            except:\n",
    "                snippet = self.entire_text.split(major + \"Minor\")[0]\n",
    "            all_snippets = np.append(all_snippets, snippet)\n",
    "        self.all_snippets = all_snippets\n",
    "\n",
    "astro = Major(abbreviation = 'Ay', name = 'Astrophysics', only_minor= False)\n",
    "\n",
    "catalog = Catalog(file_path =\n",
    "    'C:/Users/engin/Documents/GitHub/Computing-and-Formatting/catalogUGinfo.pdf', \n",
    "    want_entire_text = False)\n",
    "catalog.make_list_of_all_majors(list_of_all_majors_url = \n",
    "    \"https://www.admissions.caltech.edu/explore/academics/majors-minors\")\n",
    "print(catalog.list_of_all_majors)\n",
    "#catalog.get_all_snippets()\n",
    "\n",
    "'''\n",
    "Make array of all major objects using that webpage from Caltech. Then use their official names\n",
    "and whether they are a major or minor to find their snippet in the catalog. \n",
    "Then parse each snippet to list all of the major requirements. \n",
    "'''\n",
    "\n"
   ]
  },
  {
   "cell_type": "code",
   "execution_count": 23,
   "metadata": {},
   "outputs": [
    {
     "name": "stdout",
     "output_type": "stream",
     "text": [
      "[161, 3361, 3467, 141685, 160956, 172120, 172217, 174071, 174328, 174514, 189405]\n"
     ]
    },
    {
     "data": {
      "text/plain": [
       "{'Aerospace': [174946, 189481],\n",
       " 'Applied and Computational Mathematics': [175250, 186672],\n",
       " 'Applied Physics': [175560, 186781],\n",
       " 'Astrophysics': [175845, 186865],\n",
       " 'Bioengineering': [176129, 186948],\n",
       " 'Biology': [176408, 185841, 187026],\n",
       " 'Business, Economics, and Management': [176706],\n",
       " 'Chemical Engineering': [177019, 185952, 187236],\n",
       " 'Chemistry': [177306, 185938, 187322, 189556],\n",
       " 'Computational and Neural Systems': [177605, 187420],\n",
       " 'Computer Science': [177911, 187525, 189638],\n",
       " 'Control and Dynamical Systems': [178214, 189740],\n",
       " 'Economics': [176716, 178510, 187133, 187607],\n",
       " 'Electrical Engineering': [178799, 187695],\n",
       " 'English': [179086, 187900, 189833],\n",
       " 'Engineering and Applied Science': [179382, 186031, 187805],\n",
       " 'Geobiology, Geochemistry, Geology, Geophysics, and Planetary Science': [179735],\n",
       " 'History': [180068, 180363, 188494, 188588, 190182, 190276],\n",
       " 'History and Philosophy of Science': [180363, 188588, 190276],\n",
       " 'Information and Data Sciences': [180683, 188707, 190395],\n",
       " 'Materials Science': [180987, 188810],\n",
       " 'Mathematics': [175276, 181273, 186327, 186698, 188895],\n",
       " 'Mechanical Engineering': [181564, 188985],\n",
       " 'Philosophy': [180375, 181854, 188600, 189074, 190288, 190491],\n",
       " 'Physics': [175568, 182129, 186318, 186789, 189148],\n",
       " 'Political Science': [182411, 189367],\n",
       " 'Structural Mechanics': [182706, 190578]}"
      ]
     },
     "execution_count": 23,
     "metadata": {},
     "output_type": "execute_result"
    }
   ],
   "source": [
    "import re\n",
    "\n",
    "def get_indices_of_substring(string, substring):\n",
    "    indices_object = re.finditer(pattern=substring, string=string)\n",
    "    indices = [index.start() for index in indices_object]\n",
    "    return indices\n",
    "\n",
    "minor_index = get_indices_of_substring(catalog.html, '<b>Minors</b>')\n",
    "print(minor_index)\n",
    "\n",
    "major_indices_dict = {}\n",
    "\n",
    "for major in catalog.list_of_all_majors:\n",
    "    major_indices_dict[major] = get_indices_of_substring(catalog.html, major)\n",
    "major_indices_dict"
   ]
  },
  {
   "cell_type": "code",
   "execution_count": null,
   "metadata": {},
   "outputs": [],
   "source": [
    "get_indices_of_substring(major, catalog.html)"
   ]
  },
  {
   "cell_type": "code",
   "execution_count": 22,
   "metadata": {},
   "outputs": [],
   "source": []
  },
  {
   "cell_type": "markdown",
   "metadata": {},
   "source": [
    "<h2><b>Majors</b></h2><ul><li><a href=\"/explore/academics/majors-minors/applied-and-computational-mathematics\">Applied and Computational Mathematics</a></li><li><a href=\"/explore/academics/majors-minors/applied-physics\">Applied Physics</a></li><li><a href=\"/explore/academics/majors-minors/astrophysics\">Astrophysics</a></li><li><a href=\"/explore/academics/majors-minors/bioengineering\">Bioengineering</a></li><li><a href=\"/explore/academics/majors-minors/biology\">Biology</a></li><li><a href=\"/explore/academics/majors-minors/business-economics-and-management\">Business, Economics &amp; Management</a></li><li><a href=\"/explore/academics/majors-minors/chemical-engineering\">Chemical Engineering</a></li><li><a href=\"/explore/academics/majors-minors/chemistry\">Chemistry</a></li><li><a href=\"/explore/academics/majors-minors/computational-and-neural-systems\">Computational and Neural Systems</a></li><li><a href=\"/explore/academics/majors-minors/computer-science\">Computer Science</a></li><li><a href=\"/explore/academics/majors-minors/economics\">Economics</a></li><li><a href=\"/explore/academics/majors-minors/electrical-engineering\">Electrical Engineering</a></li><li><a href=\"/explore/academics/majors-minors/engineering-and-applied-science\">Engineering and Applied Science</a></li><li><a href=\"/explore/academics/majors-minors/english\">English</a></li><li><a href=\"/explore/academics/majors-minors/geobiology-geochemistry-geology-geophysics-and-planetary-science\">Geobiology</a></li><li><a href=\"/explore/academics/majors-minors/geobiology-geochemistry-geology-geophysics-and-planetary-science\">Geochemistry</a></li><li><a href=\"/explore/academics/majors-minors/geobiology-geochemistry-geology-geophysics-and-planetary-science\">Geology</a></li><li><a href=\"/explore/academics/majors-minors/geobiology-geochemistry-geology-geophysics-and-planetary-science\">Geophysics</a></li><li><a href=\"/explore/academics/majors-minors/history\">History</a></li><li><a href=\"/explore/academics/majors-minors/history-and-philosophy-science\">History and Philosophy of Science</a></li><li><a href=\"/explore/academics/majors-minors/information-and-data-sciences\">Information and Data Sciences</a></li><li><a href=\"/explore/academics/majors-minors/materials-science\">Materials Science</a></li><li><a href=\"/explore/academics/majors-minors/mathematics\">Mathematics</a></li><li><a href=\"/explore/academics/majors-minors/mechanical-engineering\">Mechanical Engineering</a></li><li><a href=\"/explore/academics/majors-minors/philosophy\">Philosophy</a></li><li><a href=\"/explore/academics/majors-minors/physics\">Physics</a></li><li><a href=\"/explore/academics/majors-minors/geobiology-geochemistry-geology-geophysics-and-planetary-science\">Planetary Science</a></li><li><a href=\"/explore/academics/majors-minors/political-science\">Political Science</a></li></ul><h2><b>Minors</b></h2><ul><li><a href=\"/explore/academics/majors-minors/aerospace\">Aerospace</a></li><li><a href=\"/explore/academics/majors-minors/chemistry\">Chemistry</a></li><li><a href=\"/explore/academics/majors-minors/computer-science\">Computer Science</a></li><li><a href=\"/explore/academics/majors-minors/control-and-dynamical-systems\">Control and Dynamical Systems</a></li><li><a href=\"/explore/academics/majors-minors/english\">English</a></li><li><a href=\"/explore/academics/majors-minors/engineering-and-applied-science\">Environmental Science and Engineering</a></li><li><a href=\"/explore/academics/majors-minors/geobiology-geochemistry-geology-geophysics-and-planetary-science\">Geological and Planetary Systems</a></li><li><a href=\"/explore/academics/majors-minors/history\">History</a></li><li><a href=\"/explore/academics/majors-minors/history-and-philosophy-science\">History and Philosophy of Science</a></li><li><a href=\"/explore/academics/majors-minors/information-and-data-sciences\">Information and Data Sciences</a></li><li><a href=\"/explore/academics/majors-minors/philosophy\">Philosophy</a></li><li><a href=\"/explore/academics/majors-minors/structural-mechanics\">Structural Mechanics</a></li></ul>\n"
   ]
  },
  {
   "cell_type": "markdown",
   "metadata": {},
   "source": []
  },
  {
   "cell_type": "code",
   "execution_count": null,
   "metadata": {},
   "outputs": [],
   "source": []
  }
 ],
 "metadata": {
  "interpreter": {
   "hash": "313a16212486832c5bc22aef152448e69e0e85cb514607bb6bdaf2f3811a2de9"
  },
  "kernelspec": {
   "display_name": "Python 3.8.3 ('base')",
   "language": "python",
   "name": "python3"
  },
  "language_info": {
   "codemirror_mode": {
    "name": "ipython",
    "version": 3
   },
   "file_extension": ".py",
   "mimetype": "text/x-python",
   "name": "python",
   "nbconvert_exporter": "python",
   "pygments_lexer": "ipython3",
   "version": "3.8.3"
  },
  "orig_nbformat": 4
 },
 "nbformat": 4,
 "nbformat_minor": 2
}
