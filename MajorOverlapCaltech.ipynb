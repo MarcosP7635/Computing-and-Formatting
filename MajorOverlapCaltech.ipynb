{
 "cells": [
  {
   "cell_type": "code",
   "execution_count": null,
   "metadata": {},
   "outputs": [],
   "source": [
    "import numpy as np\n",
    "import plotly\n",
    "\n",
    "def add_classes(self, additional_classes):\n",
    "    self.classes = np.append(self.classes, additional_classes)\n",
    "    self.classes = np.unique(self.classes)\n",
    "    return self.classes\n",
    "\n",
    "def assign_attributes(self, **kwargs):\n",
    "    for key in kwargs:\n",
    "        setattr(self, key, kwargs[key])\n",
    "\n",
    "class Course:\n",
    "\n",
    "    '''\n",
    "    Recommended kwargs: \"department_number\", \"name\", \"class_times\", \"terms_offered\", \"years_offered\"\n",
    "    '''\n",
    "\n",
    "    def __init__(self, **kwargs):\n",
    "        assign_attributes(self, **kwargs)\n",
    "        \n",
    "class Major:\n",
    "\n",
    "    '''\n",
    "    Each major is an object with the following attributes:\n",
    "\n",
    "    name: string of the name of major\n",
    "\n",
    "    abbreviation: string of the abbreviation of major\n",
    "\n",
    "    requirements: dictionary of requirements for the major.\n",
    "\n",
    "    required_course: numpy array of all the courses that can \n",
    "    be used to satify that specific requirement. \n",
    "    '''\n",
    "\n",
    "    def __init__(self, abbreviation, name, **kwargs):\n",
    "        self.name = str(name)\n",
    "        self.abbreviation = str(abbreviation)\n",
    "        self.requirements = {}\n",
    "        assign_attributes(self, **kwargs)\n",
    "\n",
    "    def add_requirements(self, **kwargs):\n",
    "        for key in kwargs:\n",
    "            self.requirements[key] = kwargs[key]\n",
    "            "
   ]
  },
  {
   "cell_type": "code",
   "execution_count": null,
   "metadata": {},
   "outputs": [],
   "source": [
    "class Schedule:\n",
    "    def __init__(self, time_constraints):\n",
    "        self.time_constraints = time_constraints\n",
    "        self.terms = np.array([])\n",
    "\n",
    "        for i in range():\n",
    "            self.terms.append(Term(time_constraints))\n",
    "    \n",
    "    def add_terms(self, additional_terms):\n",
    "        np.append(self.terms, additional_terms)\n",
    "    \n",
    "    #def assign_classes(term):"
   ]
  },
  {
   "cell_type": "code",
   "execution_count": 58,
   "metadata": {},
   "outputs": [
    {
     "ename": "AttributeError",
     "evalue": "'Catalog' object has no attribute 'make_list_of_all_majors'",
     "output_type": "error",
     "traceback": [
      "\u001b[1;31m---------------------------------------------------------------------------\u001b[0m",
      "\u001b[1;31mAttributeError\u001b[0m                            Traceback (most recent call last)",
      "\u001b[1;32m<ipython-input-58-0933f0084fff>\u001b[0m in \u001b[0;36m<module>\u001b[1;34m\u001b[0m\n\u001b[0;32m     57\u001b[0m astro_catalog = Catalog(file_path = \n\u001b[0;32m     58\u001b[0m     'C:/Users/engin/Documents/GitHub/Computing-and-Formatting/catalogUGinfo.pdf')\n\u001b[1;32m---> 59\u001b[1;33m astro_catalog.make_list_of_all_majors(list_of_all_majors_url = \n\u001b[0m\u001b[0;32m     60\u001b[0m     \"https://www.admissions.caltech.edu/explore/academics/majors-minors\")\n\u001b[0;32m     61\u001b[0m \u001b[0mprint\u001b[0m\u001b[1;33m(\u001b[0m\u001b[0mastro_catalog\u001b[0m\u001b[1;33m.\u001b[0m\u001b[0mlist_of_all_majors\u001b[0m\u001b[1;33m)\u001b[0m\u001b[1;33m\u001b[0m\u001b[1;33m\u001b[0m\u001b[0m\n",
      "\u001b[1;31mAttributeError\u001b[0m: 'Catalog' object has no attribute 'make_list_of_all_majors'"
     ]
    }
   ],
   "source": [
    "'''\n",
    "This next codeblock will use TQFRs and the major requirements \n",
    "to create a schedule for a given major.\n",
    "'''\n",
    "\n",
    "class Catalog:\n",
    "    def __init__(self, file_path, **kwargs):\n",
    "        import PyPDF2\n",
    "        assign_attributes(self, **kwargs)\n",
    "        pdf = open(file_path, 'rb')\n",
    "        pdf_reader = PyPDF2.PdfFileReader(pdf)\n",
    "        pdf_string = \"\"\n",
    "        for page in range(pdf_reader.numPages):\n",
    "            pdf_string += pdf_reader.getPage(page).extractText()\n",
    "        self.entire_text = pdf_string\n",
    "        self.entire_text = self.entire_text.replace('\\n', ' ')\n",
    "        self.entire_text = self.entire_text.replace('\\r', ' ')\n",
    "        self.entire_text = self.entire_text.replace('\\t', ' ')\n",
    "\n",
    "        \n",
    "    #Now this function will get a string from a PDF\n",
    "    def make_list_of_all_majors(self, list_of_all_majors_url, **kwargs):\n",
    "        '''\n",
    "        pattern and major_preface are optional arguments.\n",
    "        '''\n",
    "        #This function will webscrape from a given URL\n",
    "        #and return a list of all the majors in the catalog\n",
    "        assign_attributes(self, **kwargs)\n",
    "        from urllib.request import urlopen\n",
    "        page = urlopen(list_of_all_majors_url)\n",
    "        html = page.read().decode('utf-8')\n",
    "        try: \n",
    "            split_html = html.split(pattern)\n",
    "        except:\n",
    "            self.pattern = 'sidebar-menu-block__level-3__item'\n",
    "        split_html = np.delete(split_html, 0)  \n",
    "        list_of_all_majors = np.array([])\n",
    "        try: \n",
    "            for substring in split_html:\n",
    "                major = substring.split(major_preface)[1].split('\\n')[0]\n",
    "                list_of_all_majors = np.append(list_of_all_majors, major)\n",
    "        except:\n",
    "            self.major_preface = \">\\n                          \"\n",
    "            for substring in split_html:\n",
    "                major = substring.split(major_preface)[1].split('\\n')[0]\n",
    "                list_of_all_majors = np.append(list_of_all_majors, major)\n",
    "        self.list_of_all_majors = list_of_all_majors\n",
    "\n",
    "    def get_snippet(self, string, next_alphabetical_major):\n",
    "        start_index = self.entire_text.find(string)\n",
    "        end_index = self.entire_text.find(string) + len(string)\n",
    "        self.snippet = self.entire_text[start_index:end_index]\n",
    "\n",
    "\n",
    "astro = Major(abbreviation = 'Ay', name = 'Astrophysics')\n",
    "\n",
    "astro_catalog = Catalog(file_path = \n",
    "    'C:/Users/engin/Documents/GitHub/Computing-and-Formatting/catalogUGinfo.pdf')\n",
    "astro_catalog.make_list_of_all_majors(list_of_all_majors_url = \n",
    "    \"https://www.admissions.caltech.edu/explore/academics/majors-minors\")\n",
    "print(astro_catalog.list_of_all_majors)\n",
    "#astro_catalog.get_snippet(string = astro.name + \" Option\")\n",
    "    \n"
   ]
  },
  {
   "cell_type": "code",
   "execution_count": 57,
   "metadata": {},
   "outputs": [
    {
     "data": {
      "text/plain": [
       "array(['Aerospace', 'Applied and Computational Mathematics',\n",
       "       'Applied Physics', 'Astrophysics', 'Bioengineering', 'Biology',\n",
       "       'Business, Economics, and Management', 'Chemical Engineering',\n",
       "       'Chemistry', 'Computational and Neural Systems',\n",
       "       'Computer Science', 'Control and Dynamical Systems', 'Economics',\n",
       "       'Electrical Engineering', 'English',\n",
       "       'Engineering and Applied Science',\n",
       "       'Geobiology, Geochemistry, Geology, Geophysics, and Planetary Science',\n",
       "       'History', 'History and Philosophy of Science',\n",
       "       'Information and Data Sciences', 'Materials Science',\n",
       "       'Mathematics', 'Mechanical Engineering', 'Philosophy', 'Physics',\n",
       "       'Political Science', 'Structural Mechanics'], dtype='<U68')"
      ]
     },
     "execution_count": 57,
     "metadata": {},
     "output_type": "execute_result"
    }
   ],
   "source": [
    "major_example = '''<a href=\"/explore/academics/majors-minors/information-and-data-sciences\" class=\"sidebar-menu-block__level-3__item \">\n",
    "                          Information and Data Sciences\n",
    "                        </a>\n",
    "'''\n",
    "\n",
    "\n",
    "\n"
   ]
  },
  {
   "cell_type": "code",
   "execution_count": null,
   "metadata": {},
   "outputs": [],
   "source": [
    "for substring in split_html:\n",
    "    np.append(major_array, substring.split(major_preface)[0])\n",
    "major_array\n"
   ]
  }
 ],
 "metadata": {
  "interpreter": {
   "hash": "313a16212486832c5bc22aef152448e69e0e85cb514607bb6bdaf2f3811a2de9"
  },
  "kernelspec": {
   "display_name": "Python 3.8.3 ('base')",
   "language": "python",
   "name": "python3"
  },
  "language_info": {
   "codemirror_mode": {
    "name": "ipython",
    "version": 3
   },
   "file_extension": ".py",
   "mimetype": "text/x-python",
   "name": "python",
   "nbconvert_exporter": "python",
   "pygments_lexer": "ipython3",
   "version": "3.8.3"
  },
  "orig_nbformat": 4
 },
 "nbformat": 4,
 "nbformat_minor": 2
}
