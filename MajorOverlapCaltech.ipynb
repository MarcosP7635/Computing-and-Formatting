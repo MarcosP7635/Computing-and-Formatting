{
 "cells": [
  {
   "cell_type": "code",
   "execution_count": 6,
   "metadata": {},
   "outputs": [],
   "source": [
    "import astropy.units as units\n",
    "import astropy.constants as constants\n",
    "import matplotlib.pyplot as plt\n",
    "import sympy as sym\n",
    "import numpy as np \n",
    "import pandas as pd\n",
    "import plotly.express as px\n",
    "import plotly.figure_factory as ff\n",
    "import requests\n",
    "import re\n",
    "import os\n",
    "\n",
    "\n",
    "def add_classes(self, additional_classes):\n",
    "    self.classes = np.append(self.classes, additional_classes)\n",
    "    self.classes = np.unique(self.classes)\n",
    "    return self.classes\n",
    "\n",
    "def assign_attributes(self, **kwargs):\n",
    "    for key in kwargs:\n",
    "        setattr(self, key, kwargs[key])\n",
    "\n",
    "class Course:\n",
    "    '''\n",
    "    Recommended kwargs: \"department_number\", \"name\", \"class_times\", \"terms_offered\", \"years_offered\"\n",
    "    '''\n",
    "    def __init__(self, **kwargs):\n",
    "        assign_attributes(self, **kwargs)\n",
    "        \n",
    "class Major:\n",
    "    '''\n",
    "    Each major is an object with the following attributes:\n",
    "\n",
    "    name: string of the name of major\n",
    "\n",
    "    requirements: dictionary of requirements for the major.\n",
    "\n",
    "    only_minor: boolean, True if this object is only a minor, False otherwise\n",
    "\n",
    "    abbreviation: string of the abbreviation of major\n",
    "\n",
    "    required_course: numpy array of all the courses that can \n",
    "    be used to satify that specific requirement. \n",
    "    '''\n",
    "\n",
    "    def __init__(self, name, only_minor, **kwargs):\n",
    "        self.name = str(name)\n",
    "        self.only_minor = only_minor\n",
    "        self.requirements = {}\n",
    "        assign_attributes(self, **kwargs)\n",
    "\n",
    "    def add_requirements(self, **kwargs):\n",
    "        for key in kwargs:\n",
    "            self.requirements[key] = kwargs[key]\n",
    "\n",
    "            "
   ]
  },
  {
   "cell_type": "code",
   "execution_count": 7,
   "metadata": {},
   "outputs": [],
   "source": [
    "class Schedule:\n",
    "    def __init__(self, time_constraints):\n",
    "        self.time_constraints = time_constraints\n",
    "        self.terms = np.array([])\n",
    "\n",
    "        for i in range():\n",
    "            self.terms.append(Term(time_constraints))\n",
    "    \n",
    "    def add_terms(self, additional_terms):\n",
    "        np.append(self.terms, additional_terms)\n",
    "    \n",
    "    #def assign_classes(term):"
   ]
  },
  {
   "cell_type": "code",
   "execution_count": 23,
   "metadata": {},
   "outputs": [],
   "source": [
    "'''\n",
    "This next codeblock will use TQFRs and the major requirements \n",
    "to create a schedule for a given major.\n",
    "'''\n",
    "\n",
    "class Catalog:\n",
    "    def __init__(self, file_path, want_entire_text, **kwargs):\n",
    "        self.file_path = file_path\n",
    "        self.want_entire_text = want_entire_text\n",
    "        assign_attributes(self, **kwargs)\n",
    "        if (want_entire_text):\n",
    "            import PyPDF2\n",
    "            pdf = open(file_path, 'rb')\n",
    "            pdf_reader = PyPDF2.PdfFileReader(pdf)\n",
    "            pdf_string = \"\"\n",
    "            for page in range(pdf_reader.numPages):\n",
    "                pdf_string += pdf_reader.getPage(page).extractText()\n",
    "            self.entire_text = pdf_string\n",
    "            self.entire_text = self.entire_text.replace('\\n', ' ')\n",
    "            self.entire_text = self.entire_text.replace('\\r', ' ')\n",
    "            self.entire_text = self.entire_text.replace('\\t', ' ')\n",
    "\n",
    "    def make_list_of_all_majors(self, **kwargs):\n",
    "        pass\n",
    "\n",
    "astro_cat = Catalog(file_path = \"catalogUGinfo.pdf\", want_entire_text = True)\n",
    "major_indicator = \"Option Requirements\" \n",
    "track_indicators = [\"Track Requirements:\", \"track:\"]\n",
    "minor_indicator = \"Minor Requirements\"\n",
    "\n",
    "def get_indices_of_substring(string, substring):\n",
    "    indices_object = re.finditer(pattern=substring, string=string)\n",
    "    indices = [index.start() for index in indices_object]\n",
    "    return np.array(indices)\n",
    "\n",
    "major_indices = get_indices_of_substring(astro_cat.entire_text, major_indicator)[1:]\n",
    "for indicator in track_indicators:\n",
    "    major_indices = np.append(major_indices, \n",
    "        get_indices_of_substring(astro_cat.entire_text, indicator))\n",
    "minor_indices = get_indices_of_substring(astro_cat.entire_text, minor_indicator)\n",
    "white_space_indices = get_indices_of_substring(astro_cat.entire_text, ' ')\n"
   ]
  },
  {
   "cell_type": "code",
   "execution_count": 24,
   "metadata": {},
   "outputs": [
    {
     "name": "stdout",
     "output_type": "stream",
     "text": [
      "ACM \n",
      "APh \n",
      "Ay \n",
      "BE \n",
      "Bi \n",
      "BEM \n",
      "ChE \n",
      "Ch \n",
      "CNS \n",
      "CS \n",
      "Ec \n",
      "EE \n",
      "EAS \n",
      "En \n",
      "GPS \n",
      "GPS Option Requirements Geology \n",
      "Geobiology \n",
      "Geochemistry \n",
      "Geophysics \n",
      "Planetary Science \n",
      "H \n",
      "HPS \n",
      "IDS \n",
      "MS \n",
      "Ma \n",
      "ME \n",
      "PI \n",
      "Ph \n",
      "PS \n",
      "Chemistry \n",
      "Physics \n",
      "Biomolecular \n",
      "Sustainability \n",
      "Process systems \n",
      "Materials \n",
      "Computational \n"
     ]
    }
   ],
   "source": [
    "#find nearest period before index\n",
    "def find_nearest_symbol_before(index, string, symbol_list):\n",
    "    for i in range(index, 0, -1):\n",
    "        if string[i] in symbol_list:\n",
    "            return i + 1\n",
    "    return 0\n",
    "\n",
    "symbol_list = ['.', ':', ';', '!', '?', '-', ',', '\\n', '\\r', '\\t',\n",
    "            '1', '2', '3', '4', '5', '6', '7', '8', '9', '0', '+']\n",
    "\n",
    "#remove whitespace at beginning of string\n",
    "def remove_whitespace_at_beginning(string):\n",
    "    for i in range(0, len(string)):\n",
    "        if string[i] != ' ':\n",
    "            return string[i:]\n",
    "    return string\n",
    "\n",
    "for index in major_indices:\n",
    "    start_index = find_nearest_symbol_before(index, astro_cat.entire_text, symbol_list)\n",
    "    print(remove_whitespace_at_beginning(astro_cat.entire_text[start_index:index]))"
   ]
  },
  {
   "cell_type": "code",
   "execution_count": 25,
   "metadata": {},
   "outputs": [
    {
     "name": "stdout",
     "output_type": "stream",
     "text": [
      "[' ']\n"
     ]
    },
    {
     "data": {
      "text/plain": [
       "['Ay Option Requirements ',\n",
       " ' Ay 20, 21, 101, 102, 30 or one term of Ay 141, Ay 31, Ma 2, Ma  3, Ph 2 abc or Ph 12 abc, Ph 125 ab, and Ph 106 abc.',\n",
       " ' Any three of Ph 3, Ph 5, Ph 6, Ph 7, or Ay 105. APh 23 and 24  taken as a pair may be substituted for one of these labs.  ',\n",
       " ' 63 additional units of Ay or Ph courses. Ph 127 a, Ph 136 bc and  one of Ph 21, Ph 22, Ph 121 abc are strongly recommended. Undergraduate Information 251',\n",
       " ' 27 additional units of science or engineering electives, of which  18 must be outside the Division of Physics, Mathematics and  Astronomy. ACM 95 ab is a popular choice. Core classes ( see  pages 240Œ244) or other introductory-level courses such as CS 1  do not count toward fulfillment of this requirement. ']"
      ]
     },
     "execution_count": 25,
     "metadata": {},
     "output_type": "execute_result"
    }
   ],
   "source": [
    "def get_major_requirements(major, major_indicator = \"Option Requirements\",\n",
    "    major_ending = 'Passing grades must be earned in a total of 486 units', want_list = True,\n",
    "    requirement_separator = '1. ', lines_end_in_periods = False):\n",
    "    major_index = get_indices_of_substring(astro_cat.entire_text, \n",
    "                major + \" \" + major_indicator)\n",
    "                #in case the major name is a substring of another major        \n",
    "    for index in major_index:\n",
    "            start_index = find_nearest_symbol_before(index, astro_cat.entire_text, symbol_list)\n",
    "            end_index = start_index + astro_cat.entire_text[start_index:].index(major_ending)\n",
    "            requirements = remove_whitespace_at_beginning(astro_cat.entire_text[start_index:end_index])\n",
    "            if (requirements[:len(major)] == major): #it's a match\n",
    "                if (want_list):\n",
    "                    return separate_major_requirements(requirements, requirement_separator, lines_end_in_periods)\n",
    "                return requirements\n",
    "\n",
    "def separate_major_requirements(major_requirements, requirement_separator, lines_end_in_periods = False):\n",
    "    if not lines_end_in_periods:\n",
    "        requirement_separator = requirement_separator[1:]\n",
    "    requirements_list = []\n",
    "    i = 1\n",
    "    while True:\n",
    "        new = major_requirements.split(str(i) + requirement_separator)\n",
    "        if(len(new) < 2 or new[1] == ''):\n",
    "            try: \n",
    "                requirements_list.append(new[0][0:new[0].index('.')])\n",
    "            except:\n",
    "                pass #the final requirement was not a complete sentence\n",
    "            print(new)\n",
    "            return requirements_list\n",
    "        requirements_list.append(new[0])\n",
    "        i += 1\n",
    "        if(lines_end_in_periods):\n",
    "            index = new[1].index('.')\n",
    "            new[1] = new[1][0:index] + new[1][index+1:]        \n",
    "        major_requirements = new[1]\n",
    "\n",
    "#The way the sections for each minor are written are too irregular to end them cleanly (so far)\n",
    "#The math major is not formatted regularly\n",
    "get_major_requirements('Ay')"
   ]
  },
  {
   "cell_type": "markdown",
   "metadata": {},
   "source": [
    "Now given a set of major requirements, we will return a schedule using the TQFRs and course schedules."
   ]
  },
  {
   "cell_type": "code",
   "execution_count": 44,
   "metadata": {},
   "outputs": [
    {
     "data": {
      "text/plain": [
       "48743"
      ]
     },
     "execution_count": 44,
     "metadata": {},
     "output_type": "execute_result"
    }
   ],
   "source": [
    "first_course_index = astro_cat.entire_text.index(\"Ae 100. Research in Aerospace\")\n",
    "start_index = find_nearest_symbol_before(first_course_index, astro_cat.entire_text, symbol_list)\n",
    "last_course_instructor = astro_cat.entire_text.index(\"to feedback from peer reviewers.\") \n",
    "#if this isn't the only class they teach use the find substrin function\n",
    "courses_section = remove_whitespace_at_beginning(astro_cat.entire_text[first_course_index:last_course_instructor])\n"
   ]
  },
  {
   "cell_type": "code",
   "execution_count": 57,
   "metadata": {},
   "outputs": [
    {
     "data": {
      "text/plain": [
       "'Ay 20.  Basic Astronomy and the Galaxy.   -requisites: Ma 1 abc, Ph 1 abc or instructor™s permission.  The elec-tromagnetic spectrum and basic radiative transfer; ground and space  observing techniques; ﬁpictorial Fourier descriptionﬂ of astrophysical  485 -tions; the birth, structure, evolution, and death of stars; the structure   of-magnitude calculations and scaling arguments in order to elucidate  the physics of astrophysical phenomena. Short labs will introduce   Ay 21. Galaxies and Cosmology.  9 units (3-0-6); second term. Pre -requisites: Ma 1 abc, Ph 1 abc or instructor™s permission.  Cosmological tests; constituents of the universe, dark matter, and dark energy; ther -mal history of the universe, cosmic nucleosynthesis, recombination, and  cosmic microwave background; formation and evolution of structure   - universe; quasars and other active galactic nuclei, and their evolution'"
      ]
     },
     "execution_count": 57,
     "metadata": {},
     "output_type": "execute_result"
    }
   ],
   "source": [
    "start = courses_section.index(\"Ay 20\")\n",
    "end = start + courses_section[start:].index(\";   \")\n",
    "courses_section[start:end]"
   ]
  },
  {
   "cell_type": "code",
   "execution_count": 66,
   "metadata": {},
   "outputs": [
    {
     "data": {
      "text/plain": [
       "19136"
      ]
     },
     "execution_count": 66,
     "metadata": {},
     "output_type": "execute_result"
    }
   ],
   "source": [
    "#import .txt file as string\n",
    "with open('C://Users//engin//Documents//GitHub//Computing-and-Formatting//wi2020schedule.txt', 'r') as myfile:\n",
    "    new_schedule = myfile.read()\n",
    "new_schedule = new_schedule.replace('\\n', ' ').replace('\\r', ' ').replace('\\t', ' ')\n"
   ]
  },
  {
   "cell_type": "code",
   "execution_count": null,
   "metadata": {},
   "outputs": [],
   "source": []
  }
 ],
 "metadata": {
  "interpreter": {
   "hash": "b5623c593edf3a9c30fecf3e392f1a3c31f722d7f93243239e2241963cc60577"
  },
  "kernelspec": {
   "display_name": "Python 3.8.3 ('base')",
   "language": "python",
   "name": "python3"
  },
  "language_info": {
   "codemirror_mode": {
    "name": "ipython",
    "version": 3
   },
   "file_extension": ".py",
   "mimetype": "text/x-python",
   "name": "python",
   "nbconvert_exporter": "python",
   "pygments_lexer": "ipython3",
   "version": "3.8.3"
  },
  "orig_nbformat": 4
 },
 "nbformat": 4,
 "nbformat_minor": 2
}
