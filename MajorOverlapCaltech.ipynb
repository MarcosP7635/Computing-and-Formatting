{
 "cells": [
  {
   "cell_type": "code",
   "execution_count": null,
   "metadata": {},
   "outputs": [],
   "source": [
    "import numpy as np\n",
    "import plotly\n",
    "\n",
    "def add_classes(self, additional_classes):\n",
    "    self.classes = np.append(self.classes, additional_classes)\n",
    "    self.classes = np.unique(self.classes)\n",
    "    return self.classes\n",
    "\n",
    "def assign_attributes(self, **kwargs):\n",
    "    for key in kwargs:\n",
    "        setattr(self, key, kwargs[key])\n",
    "\n",
    "class Course:\n",
    "    '''\n",
    "    Recommended kwargs: \"department_number\", \"name\", \"class_times\", \"terms_offered\", \"years_offered\"\n",
    "    '''\n",
    "    def __init__(self, **kwargs):\n",
    "        assign_attributes(self, **kwargs)\n",
    "        \n",
    "class Major:\n",
    "    '''\n",
    "    Each major is an object with the following attributes:\n",
    "\n",
    "    name: string of the name of major\n",
    "\n",
    "    requirements: dictionary of requirements for the major.\n",
    "\n",
    "    only_minor: boolean, True if this object is only a minor, False otherwise\n",
    "\n",
    "    abbreviation: string of the abbreviation of major\n",
    "\n",
    "    required_course: numpy array of all the courses that can \n",
    "    be used to satify that specific requirement. \n",
    "    '''\n",
    "\n",
    "    def __init__(self, name, only_minor, **kwargs):\n",
    "        self.name = str(name)\n",
    "        self.only_minor = only_minor\n",
    "        self.requirements = {}\n",
    "        assign_attributes(self, **kwargs)\n",
    "\n",
    "    def add_requirements(self, **kwargs):\n",
    "        for key in kwargs:\n",
    "            self.requirements[key] = kwargs[key]\n",
    "\n",
    "            "
   ]
  },
  {
   "cell_type": "code",
   "execution_count": null,
   "metadata": {},
   "outputs": [],
   "source": [
    "class Schedule:\n",
    "    def __init__(self, time_constraints):\n",
    "        self.time_constraints = time_constraints\n",
    "        self.terms = np.array([])\n",
    "\n",
    "        for i in range():\n",
    "            self.terms.append(Term(time_constraints))\n",
    "    \n",
    "    def add_terms(self, additional_terms):\n",
    "        np.append(self.terms, additional_terms)\n",
    "    \n",
    "    #def assign_classes(term):"
   ]
  },
  {
   "cell_type": "code",
   "execution_count": 247,
   "metadata": {},
   "outputs": [],
   "source": [
    "'''\n",
    "This next codeblock will use TQFRs and the major requirements \n",
    "to create a schedule for a given major.\n",
    "'''\n",
    "\n",
    "class Catalog:\n",
    "    def __init__(self, file_path, want_entire_text, **kwargs):\n",
    "        self.file_path = file_path\n",
    "        self.want_entire_text = want_entire_text\n",
    "        assign_attributes(self, **kwargs)\n",
    "        if (want_entire_text):\n",
    "            import PyPDF2\n",
    "            pdf = open(file_path, 'rb')\n",
    "            pdf_reader = PyPDF2.PdfFileReader(pdf)\n",
    "            pdf_string = \"\"\n",
    "            for page in range(pdf_reader.numPages):\n",
    "                pdf_string += pdf_reader.getPage(page).extractText()\n",
    "            self.entire_text = pdf_string\n",
    "            self.entire_text = self.entire_text.replace('\\n', ' ')\n",
    "            self.entire_text = self.entire_text.replace('\\r', ' ')\n",
    "            self.entire_text = self.entire_text.replace('\\t', ' ')\n",
    "\n",
    "    def make_list_of_all_majors(self, **kwargs):\n",
    "        pass\n",
    "\n",
    "astro_cat = Catalog(file_path = \"catalogUGinfo.pdf\", want_entire_text = True)\n",
    "major_indicator = \"Option Requirements\"\n",
    "minor_indicator = \"Minor Requirements\"\n",
    "with open('entire_catalog.txt', 'w') as f:\n",
    "    f.write(astro_cat.entire_text)\n",
    "    \n",
    "import re\n",
    "\n",
    "def get_indices_of_substring(string, substring):\n",
    "    indices_object = re.finditer(pattern=substring, string=string)\n",
    "    indices = [index.start() for index in indices_object]\n",
    "    return np.array(indices)\n",
    "\n",
    "major_indices = get_indices_of_substring(astro_cat.entire_text, major_indicator)\n",
    "minor_indices = get_indices_of_substring(astro_cat.entire_text, minor_indicator)\n",
    "white_space_indices = get_indices_of_substring(astro_cat.entire_text, ' ')\n"
   ]
  },
  {
   "cell_type": "code",
   "execution_count": 246,
   "metadata": {},
   "outputs": [
    {
     "name": "stdout",
     "output_type": "stream",
     "text": [
      "eGPSSee Option Requirements   En/Wr 84 or one of  SEC 11, SEC 12, or SEC 13MaMa 10Ma 11PhPh 70sameTYPICAL FI\n",
      "d.  ACM Option Requirements 1. Mathematical Fundamentals: Ma 2; Ma 3; Ma 6 ab or Ma 121 ab; Ma 6 c or CS 21;\n",
      "ems.APh Option Requirements Note: Items in brackets represent optional replacements. 1. SEC 10 and one of SE\n",
      "tion.Ay Option Requirements 1.  Ay 20, 21, 101, 102, 30 or one term of Ay 141, Ay 31, Ma 2, Ma  3, Ph 2 abc \n",
      "e.   BE Option Requirements 1. BE 1; BE/APh 161; ChE/BE 163; two courses from BE 150, BE  159, and BE/CS/CNS\n",
      "ing. Bi Option Requirements The following required courses must all be taken on grades, with the  exception \n",
      ".   BEM Option Requirements It is highly recommended to take a statistics/econometrics course, as  well as B\n",
      "ion.ChE Option Requirements 1. Ma 2, Ph 2 a, Ch/ChE 9, ChE 15, Ch 21 ab ƒ, Ch 41 abc, ChE 62,  ChE 63 ab, Ch\n",
      "ring.Ch Option Requirements 1. Ch 14, Ch 21ab, Ch 21 c or Ch 25, Ch 41abc, Ch 90, Ma 2, and Ph 2a. Ma 3 is r\n",
      "ve. CNS Option Requirements 1. Fulfillment of extended core requirements in Differential Equations  (Ma 2 or\n",
      "load.CS Option Requirements  1.  CS fundamentals. CS 1 or CS 1X; CS 2; CS 3; CS 4.2.  Intermediate CS. CS 21\n",
      "nts. Ec Option Requirements 1. Ec 11.2. Theory: Ec 121 ab and PS/Ec 172.3. Data analysis: Ec 122.4. Applied \n",
      "nts. EE Option Requirements 1. EE 55, Ma 2, Ph 2 abc. Ph 12 abc can replace Ph 2 abc. 2. EE 2, SEC 10, one o\n",
      "ion.EAS Option Requirements Students who have elected the EAS option must either choose one of  the approved\n",
      "tion.En Option Requirements 1.  En 99 ab.2.  81 additional units of English courses numbered 99 and above.  \n",
      " 294GPS Option Requirements Geology Option Requirements1. Ge 11 ab, Ge/Ay 11 c or Ge 11 d 1, and any writing\n",
      "Geology Option Requirements1. Ge 11 ab, Ge/Ay 11 c or Ge 11 d 1, and any writing class and oral presentation\n",
      "biology Option Requirements 1.  Ge 11 abc.2.  Bi 8, 9.3.  Ma 2 and one course in statistics and data analysi\n",
      "emistry Option Requirements 11. Ge 11 ab, Ge/Ay 11 c or Ge 11 d, Ge 109, and a science writing  course.22. M\n",
      "physics Option Requirements 1. Ge 11 a, Ge 11 b or Ge 11/Ay c, SEC 10 and a science writing  course.12. Ge 1\n",
      "Science Option Requirements 1. Ma 2 and one of Ma 3, Ge/Ay 117, or Ge/ESE 118.  2. Ph2 a or 12 a, Ph 2 b or \n",
      "tion. H Option Requirements 1. H 99 abc.2. 72 additional units of history courses numbered 99 or above.  Up \n",
      "nce.HPS Option Requirements 1. Hum/H/HPS 18; HPS 102 ab; HPS/Pl 120; and HPS 103 (one quarter). (HPS 102 b f\n",
      "ce. IDS Option Requirements 1.  Computer Science Fundamentals. CS 1 or CS 1X; CS 2; CS 21 or Ma/CS 6c; and C\n",
      "tion.MS Option Requirements  1. Fulfillment of extended core requirements in Differential Equations  (Ma 2 o\n",
      "ons. Ma Option Requirements 1. Ma 2.  2. Ma 3 or Ma 140 a.3. Ph 2 bc or Ph 12 bc4. Ma 5 abc, Ma 10, Ma 108 a\n",
      "s 318ME Option Requirements 1. Technical communication: SEC 10 and one of SEC 11, SEC 12,  or SEC 13.2.  Mat\n",
      ". 321PI Option Requirements 1. Pl 90 ab.2. 63 units of advanced philosophy courses, numbered 99 or  above. U\n",
      "tion.Ph Option Requirements The first five requirements should be completed by the end of the  second year. \n",
      "ts.  PS Option Requirements 1. PS 12, PS 132, Ec 122.2. Four political science courses from the list: PS 120\n"
     ]
    }
   ],
   "source": [
    "for index in major_indices:\n",
    "    print(astro_cat.entire_text[index-8:index+100])"
   ]
  },
  {
   "cell_type": "code",
   "execution_count": 254,
   "metadata": {},
   "outputs": [
    {
     "name": "stdout",
     "output_type": "stream",
     "text": [
      " Ae Minor Requirements  1. Complete Ae 105 abc. 2. Complete a second three-term 100-level Ae class, chos\n",
      " Option Minor Requirements 1. Basis in physics: either Ph 2ab or Ph12 ab (18 units)2. Introductory Astronomy\n",
      " 40+40+40+Biology Minor Requirements The biology minor is intended to supplement one of Caltech™s under -graduate degr\n",
      " electiveCh Minor Requirements The chemistry minor is intended to supplement one of Caltech™s  undergraduate deg\n",
      " transcripts.CS Minor Requirements  1. CS fundamentals. CS 1 or CS 1X; CS 2; CS 3. 2. Mathematical fundamentals. Ma \n",
      " CDS Minor Requirements Complete CDS 110 or CDS 131 and CDS 231 or CDS 232Complete nine additional units \n",
      " English Minor RequirementsThe English minor is designed for students who want to pursue concen-trated study \n",
      " transcripts.293ESE Minor Requirements 1. Complete 27 units of ESE 1, 101, 102, or 1032. Complete 27 additional units of\n",
      " Division Minor Requirements The minors in the GPS Division are intended for non-GPS undergradu-ates to supple\n",
      " H Minor Requirements The history minor is designed for students who want to pursue concen-trated study\n",
      " HPS Minor Requirements The minor in HPS is designed for students who want to pursue con-centrated study \n",
      " caltech.edu.IDS Minor Requirements 1.  Computer Science Fundamentals. CS1 or CS 1X; CS2; CS21 or Ma/CS6c; and CS38.2\n",
      " options.NB Minor Requirements 1. Biology fundamentals. Bi 8 and Bi 92. Intermediate biology: Genetics: Bi 122; \n",
      " PI Minor Requirements The minor in philosophy is designed for students who want to pursue concentrated \n",
      " transcripts.SM Minor Requirements The student must complete 54 units of classes selected from Ae/AM/ CE 102 abc, AM\n",
      " Culture Minor Requirements  Visual Culture minors must take 72 units of Visual Culture courses.  These units\n"
     ]
    }
   ],
   "source": [
    "def nth_largest_smaller_element(array, index, n):\n",
    "    for element_index in range(len(array)):\n",
    "        if (array[element_index] > index):\n",
    "            return array[element_index - n]\n",
    "\n",
    "for index in minor_indices:\n",
    "    print(astro_cat.entire_text[nth_largest_smaller_element(white_space_indices, index, 2)\n",
    "        :index+100])\n",
    "\n",
    "'''\n",
    "It will be easier to scrape the requirements if we find where the requirements end rather than\n",
    "where they start. Rewrite these methods accordingly.\n",
    "'''"
   ]
  },
  {
   "cell_type": "code",
   "execution_count": 248,
   "metadata": {},
   "outputs": [
    {
     "data": {
      "text/plain": [
       "327896"
      ]
     },
     "execution_count": 248,
     "metadata": {},
     "output_type": "execute_result"
    }
   ],
   "source": [
    "\n",
    "\n",
    "\n"
   ]
  },
  {
   "cell_type": "code",
   "execution_count": null,
   "metadata": {},
   "outputs": [],
   "source": []
  }
 ],
 "metadata": {
  "interpreter": {
   "hash": "313a16212486832c5bc22aef152448e69e0e85cb514607bb6bdaf2f3811a2de9"
  },
  "kernelspec": {
   "display_name": "Python 3.8.3 ('base')",
   "language": "python",
   "name": "python3"
  },
  "language_info": {
   "codemirror_mode": {
    "name": "ipython",
    "version": 3
   },
   "file_extension": ".py",
   "mimetype": "text/x-python",
   "name": "python",
   "nbconvert_exporter": "python",
   "pygments_lexer": "ipython3",
   "version": "3.8.3"
  },
  "orig_nbformat": 4
 },
 "nbformat": 4,
 "nbformat_minor": 2
}
