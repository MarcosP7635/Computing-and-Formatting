{
 "cells": [
  {
   "cell_type": "code",
   "execution_count": 2,
   "metadata": {},
   "outputs": [],
   "source": [
    "import numpy as np\n",
    "import plotly\n",
    "\n",
    "'''\n",
    "Here I will use the words inputs and arguments interchangeably.\n",
    "Recommended for functions that have a lot of arguments.\n",
    "Note that since the reslting inputs are a dictionary they are\n",
    "accessed with the form inputs[\"example_name_1\"].\n",
    " \n",
    "argument_names is a list of strings, which include the names\n",
    "of all optional and required arguments.\n",
    "\n",
    "inputs is a dictionary that will be used to store the \n",
    "inputs. \n",
    "\n",
    "Each key is the default value of an input. If\n",
    "the user specifies an input, the default value will be \n",
    "reassigned to the user input (represented by kwargs).\n",
    "\n",
    "Example:\n",
    "def function_name(**kwargs):\n",
    "\t#kwargs is a dictionary\n",
    "    default_values = {\"non_optional_variable\": default_value}\n",
    "    argument_names = (\"example_name_1\", \"example_name_2\")  \n",
    "    inputs = assign_inputs(default_dict, argument_names, \n",
    "                       user_input)\n",
    "'''\n",
    "\n",
    "def assign_inputs(default_dict, argument_names, \n",
    "        user_input):\n",
    "        inputs = default_dict\n",
    "        for index in range(len(user_input)):\n",
    "            inputs[argument_names[index]] = user_input[index]\n",
    "        return inputs\n",
    "\n",
    "\n",
    "#%%\n",
    "\n",
    "def add_classes(self, additional_classes):\n",
    "    self.classes = np.append(self.classes, additional_classes)\n",
    "    self.classes = np.unique(self.classes)\n",
    "    return self.classes\n",
    "\n",
    "def assign_attributes(self, **kwargs):\n",
    "    for key in kwargs:\n",
    "        setattr(self, key, kwargs[key])\n",
    "\n",
    "class Course:\n",
    "    def assign_inputs(default_dict, argument_names, \n",
    "        user_input):\n",
    "        inputs = default_dict\n",
    "        for index in range(len(user_input)):\n",
    "            inputs[argument_names[index]] = user_input[index]\n",
    "        return inputs\n",
    "\n",
    "    def __init__(self, **kwargs):\n",
    "\t#kwargs is a dictionary \n",
    "        argument_names = (\"department_number\", \"name\",\n",
    "            \"class_times\", \"terms_offered\", \"years_offered\")  \n",
    "        inputs = assign_inputs({}, argument_names, kwargs)\n",
    "        self.inputs = inputs  \n",
    "        \n",
    "    def add_courses(self, additional_courses):\n",
    "        self.courses = np.append(self.courses, \n",
    "            additional_courses)"
   ]
  },
  {
   "cell_type": "code",
   "execution_count": 3,
   "metadata": {},
   "outputs": [
    {
     "data": {
      "text/plain": [
       "array([6, 7])"
      ]
     },
     "execution_count": 3,
     "metadata": {},
     "output_type": "execute_result"
    }
   ],
   "source": [
    "'''\n",
    "Each major is an object with the following attributes:\n",
    "\n",
    "name: string of the name of major\n",
    "\n",
    "requirements: dictionary of requirements for the major.\n",
    "\n",
    "required_course: numpy array of all the courses that can \n",
    "be used to satify that specific requirement. \n",
    "'''\n",
    "\n",
    "class Major:\n",
    "    def __init__(self, abbreviation, name, **kwargs):\n",
    "        self.name = str(name)\n",
    "        self.abbreviation = str(abbreviation)\n",
    "        self.requirements = {}\n",
    "        assign_attributes(self, **kwargs)\n",
    "\n",
    "    def add_requirements(self, **kwargs):\n",
    "        for key in kwargs:\n",
    "            self.requirements[key] = kwargs[key]\n",
    "\n",
    "nest = np.array((6,7))\n",
    "test = np.array((1,2,3,4,5, nest))\n",
    "cat = {}\n",
    "cat['dog'] = test\n",
    "cat['dog'][-1]"
   ]
  },
  {
   "cell_type": "code",
   "execution_count": null,
   "metadata": {},
   "outputs": [],
   "source": [
    "'''\n",
    "This next codeblock will use TQFRs and the major requirements \n",
    "to create a schedule for a given major.\n",
    "'''\n",
    "\n",
    "class Schedule:\n",
    "    def __init__(self, time_constraints):\n",
    "        self.time_constraints = time_constraints\n",
    "        self.terms = np.array([])\n",
    "\n",
    "        for i in range():\n",
    "            self.terms.append(Term(time_constraints))\n",
    "    \n",
    "    def add_terms(self, additional_terms):\n",
    "        np.append(self.terms, additional_terms)\n",
    "    \n",
    "    #def assign_classes(term):"
   ]
  }
 ],
 "metadata": {
  "interpreter": {
   "hash": "313a16212486832c5bc22aef152448e69e0e85cb514607bb6bdaf2f3811a2de9"
  },
  "kernelspec": {
   "display_name": "Python 3.8.3 ('base')",
   "language": "python",
   "name": "python3"
  },
  "language_info": {
   "codemirror_mode": {
    "name": "ipython",
    "version": 3
   },
   "file_extension": ".py",
   "mimetype": "text/x-python",
   "name": "python",
   "nbconvert_exporter": "python",
   "pygments_lexer": "ipython3",
   "version": "3.8.3"
  },
  "orig_nbformat": 4
 },
 "nbformat": 4,
 "nbformat_minor": 2
}
