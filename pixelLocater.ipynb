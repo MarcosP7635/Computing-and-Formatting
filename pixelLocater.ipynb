{
  "cells": [
    {
      "cell_type": "markdown",
      "metadata": {},
      "source": [
        "Given at least 3 pins on a map, this code will find the relative distances and directions of each pin. "
      ]
    },
    {
      "cell_type": "code",
      "execution_count": 87,
      "metadata": {},
      "outputs": [],
      "source": [
        "#import image file as array\n",
        "import numpy as np\n",
        "from PIL import Image\n",
        "import matplotlib.pyplot as plt\n",
        "file_path = \"C:\\\\Users\\\\engin\\\\Documents\\\\test.png\"\n",
        "im = Image.open(file_path)\n",
        "image_array = np.asarray(im)"
      ]
    },
    {
      "cell_type": "code",
      "execution_count": 78,
      "metadata": {},
      "outputs": [],
      "source": [
        "def find_n_brightest_pixels(image_array, n):\n",
        "    '''\n",
        "    Find the row and column of the 10 brightest pixels in the image\n",
        "    '''\n",
        "    coordinates = [(i, i) for i in range(n)]\n",
        "    brightnesses = [sum(image_array[coordinate[0],coordinate[1],0:3]) for coordinate in coordinates]\n",
        "    rows, columns = image_array.shape[0:2]\n",
        "    for row in range(rows):\n",
        "        for col in range(cols):\n",
        "                brightness = sum(image_array[row,col,0:3])\n",
        "                if brightness > brightnesses[-1]:\n",
        "                    index = -1\n",
        "                    while (brightnesses[index] < brightness and index > -len(brightnesses)):\n",
        "                        index -= 1\n",
        "                    brightnesses.insert(index, brightness)\n",
        "                    coordinates.insert(index, (row, col))\n",
        "                    brightnesses.pop()\n",
        "                    coordinates.pop()\n",
        "    return coordinates, brightnesses                \n",
        "ten_brightest_pixels = find_n_brightest_pixels(image_array, 100)"
      ]
    },
    {
      "cell_type": "code",
      "execution_count": 83,
      "metadata": {},
      "outputs": [
        {
          "data": {
            "application/vnd.jupyter.widget-view+json": {
              "model_id": "cbc582bdd43641a1b0797f78fabbcae0",
              "version_major": 2,
              "version_minor": 0
            },
            "text/plain": [
              "Canvas(toolbar=Toolbar(toolitems=[('Home', 'Reset original view', 'home', 'home'), ('Back', 'Back to previous …"
            ]
          },
          "metadata": {},
          "output_type": "display_data"
        },
        {
          "name": "stderr",
          "output_type": "stream",
          "text": [
            "Clipping input data to the valid range for imshow with RGB data ([0..1] for floats or [0..255] for integers).\n"
          ]
        },
        {
          "data": {
            "text/plain": [
              "<matplotlib.image.AxesImage at 0x20f7131c5e0>"
            ]
          },
          "execution_count": 83,
          "metadata": {},
          "output_type": "execute_result"
        }
      ],
      "source": [
        "%matplotlib ipympl\n",
        "coordinates, brightnesses = ten_brightest_pixels\n",
        "test_array = np.zeros((image_array.shape[0],image_array.shape[1],4))\n",
        "for index in range(len(coordinates)):\n",
        "    test_array[coordinates[index][0],coordinates[index][1],3] = brightnesses[index]/255\n",
        "plt.imshow(test_array)"
      ]
    },
    {
      "cell_type": "code",
      "execution_count": 88,
      "metadata": {},
      "outputs": [
        {
          "data": {
            "application/vnd.jupyter.widget-view+json": {
              "model_id": "285b75bc6c234c2391818ee21e61c011",
              "version_major": 2,
              "version_minor": 0
            },
            "text/plain": [
              "Canvas(toolbar=Toolbar(toolitems=[('Home', 'Reset original view', 'home', 'home'), ('Back', 'Back to previous …"
            ]
          },
          "metadata": {},
          "output_type": "display_data"
        },
        {
          "data": {
            "text/plain": [
              "<matplotlib.image.AxesImage at 0x20f713d9c10>"
            ]
          },
          "execution_count": 88,
          "metadata": {},
          "output_type": "execute_result"
        }
      ],
      "source": [
        "%matplotlib ipympl\n",
        "plt.imshow(image_array)"
      ]
    },
    {
      "cell_type": "markdown",
      "metadata": {},
      "source": [
        "The distance between (773, y) and (1400, y) is 10 miles. \n",
        "Every mile is 62.7 pixel sides. "
      ]
    },
    {
      "cell_type": "code",
      "execution_count": null,
      "metadata": {},
      "outputs": [],
      "source": []
    }
  ],
  "metadata": {
    "colab": {
      "collapsed_sections": [],
      "name": "pypyTemplate.ipynb",
      "provenance": []
    },
    "kernelspec": {
      "display_name": "Python 3.8.3 ('base')",
      "language": "python",
      "name": "python3"
    },
    "language_info": {
      "codemirror_mode": {
        "name": "ipython",
        "version": 3
      },
      "file_extension": ".py",
      "mimetype": "text/x-python",
      "name": "python",
      "nbconvert_exporter": "python",
      "pygments_lexer": "ipython3",
      "version": "3.8.3"
    },
    "vscode": {
      "interpreter": {
        "hash": "b5623c593edf3a9c30fecf3e392f1a3c31f722d7f93243239e2241963cc60577"
      }
    }
  },
  "nbformat": 4,
  "nbformat_minor": 0
}
